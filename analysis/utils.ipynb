{
 "cells": [
  {
   "cell_type": "code",
   "execution_count": null,
   "metadata": {},
   "outputs": [],
   "source": [
    "def read_file_as_str(file):\n",
    "    results = \"\"\n",
    "    with open(file, 'r') as reader:\n",
    "        # Read and print the entire file line by line\n",
    "        for line in reader:\n",
    "            results += line\n",
    "    return results\n",
    "\n",
    "def dict_to_csv(dict_data, csv_file, csv_columns, target_col):\n",
    "    try:\n",
    "        with open(csv_file, 'w') as csvfile:\n",
    "            writer = csv.writer(csvfile)\n",
    "            writer.writerow(csv_columns)\n",
    "            for k, data in dict_data.items():\n",
    "                row = [k]\n",
    "                for c in target_col:\n",
    "                    row.append(data[c])\n",
    "                writer.writerow(row)\n",
    "    except IOError as e:\n",
    "        print(\"I/O error\", e)"
   ]
  }
 ],
 "metadata": {
  "kernelspec": {
   "display_name": "Python 3 (ipykernel)",
   "language": "python",
   "name": "python3"
  },
  "language_info": {
   "codemirror_mode": {
    "name": "ipython",
    "version": 3
   },
   "file_extension": ".py",
   "mimetype": "text/x-python",
   "name": "python",
   "nbconvert_exporter": "python",
   "pygments_lexer": "ipython3",
   "version": "3.9.13"
  }
 },
 "nbformat": 4,
 "nbformat_minor": 4
}
