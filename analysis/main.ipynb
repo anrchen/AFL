{
 "cells": [
  {
   "cell_type": "markdown",
   "id": "f78a15bc-b4be-4159-bfee-d68cfa29575e",
   "metadata": {
    "tags": []
   },
   "source": [
    "# Coverage Monitor\n",
    "\n",
    "Problem statement\n",
    "\n",
    "Approach\n",
    "\n",
    "Who are we?"
   ]
  },
  {
   "cell_type": "markdown",
   "id": "9e605db4-0f31-4df1-a78f-a50594a3c9a2",
   "metadata": {
    "tags": []
   },
   "source": [
    "## Constants"
   ]
  },
  {
   "cell_type": "code",
   "execution_count": 4,
   "id": "c0609c33-3f13-4585-a162-385b5159ab33",
   "metadata": {},
   "outputs": [],
   "source": [
    "import os\n",
    "\n",
    "# benchmark directory\n",
    "benchmark_loc = \"/Users/IceCream/Documents/hw22_fuzzing/benchmark\"\n",
    "\n",
    "# studied project\n",
    "proj = \"isort_setting3\"\n",
    "proj_loc = os.path.join(benchmark_loc, proj)\n",
    "\n",
    "# output directory\n",
    "out_loc = os.path.join(proj_loc, \"analysis\")\n",
    "if not os.path.exists(out_loc):\n",
    "    os.makedirs(out_loc)"
   ]
  },
  {
   "cell_type": "markdown",
   "id": "d5c71988-c3b6-408c-888a-0f7ce73ad099",
   "metadata": {
    "jp-MarkdownHeadingCollapsed": true,
    "tags": []
   },
   "source": [
    "## Lauching AFL"
   ]
  },
  {
   "cell_type": "code",
   "execution_count": null,
   "id": "5680ed02-92dd-4c35-adeb-6cdd7e7c9bfb",
   "metadata": {},
   "outputs": [],
   "source": [
    "# afl driver goes here"
   ]
  },
  {
   "cell_type": "markdown",
   "id": "9ce6c971-f216-4467-a5ff-5e59b4bef511",
   "metadata": {},
   "source": [
    "## Monitoring executions"
   ]
  },
  {
   "cell_type": "code",
   "execution_count": 85,
   "id": "98802ce2-0b9c-4b31-b7a3-89e85fddffc2",
   "metadata": {
    "tags": []
   },
   "outputs": [],
   "source": [
    "%run cov_tracker.ipynb\n",
    "\n",
    "'''\n",
    "Process code coverage and store the output into cov.csv and exec_c.csv for coverage and execution counts \n",
    "[\"cid\", \"file\", \"line\", \"fn\"]\n",
    "'''\n",
    "def process_cov(proj_loc, out_loc):\n",
    "    global df_exec_c, fn_dict\n",
    "    \n",
    "    fn_json = os.path.join(out_loc, 'raw', 'fn.json')\n",
    "    exec_c_csv = os.path.join(out_loc, 'raw', 'exec_c.csv')\n",
    "    \n",
    "    raw_data_loc = os.path.join(out_loc, 'raw')\n",
    "    if not os.path.exists(raw_data_loc):\n",
    "        os.makedirs(raw_data_loc)\n",
    "    \n",
    "    if not os.path.exists(exec_c_csv):\n",
    "        # collect the code coverage and store it in `df_exec_c`\n",
    "        print(\"Collecting coverage results...\")\n",
    "        collect_cov(proj_loc)\n",
    "        # store exec_c.csv\n",
    "        df_exec_c.to_csv(exec_c_csv, encoding='utf-8', index=False)\n",
    "        print(\"Stored the execution counts as exec_c.csv\")\n",
    "    \n",
    "    # read from data\n",
    "    df_exec_c = pd.read_csv(exec_c_csv)\n",
    "    # format the code coverage\n",
    "    df_cov = compute_cov_spectra(df_exec_c)\n",
    "    cov_csv = os.path.join(out_loc, 'spectra.csv')\n",
    "    df_cov.to_csv(cov_csv)\n",
    "    \n",
    "    # format the execution count\n",
    "    df_exec_c = pd.merge(df_exec_c, df_cov.reset_index(),  how='outer', on=['line', 'file', 'fn'])\n",
    "    df_exec_c = df_exec_c[['trace_id', 'cid', 'exec']].sort_values(by=['trace_id', 'cid'])\n",
    "    exec_csv = os.path.join(out_loc, 'execution.csv')\n",
    "    df_exec_c.to_csv(exec_csv, index=False)\n",
    "\n",
    "\n",
    "# set global cov\n",
    "df_exec_c = []\n",
    "process_cov(proj_loc, out_loc)\n",
    "\n"
   ]
  },
  {
   "cell_type": "code",
   "execution_count": null,
   "id": "c6bc9e64-2534-45c6-8dfc-c03679090ca3",
   "metadata": {},
   "outputs": [],
   "source": []
  }
 ],
 "metadata": {
  "kernelspec": {
   "display_name": "Python 3 (ipykernel)",
   "language": "python",
   "name": "python3"
  },
  "language_info": {
   "codemirror_mode": {
    "name": "ipython",
    "version": 3
   },
   "file_extension": ".py",
   "mimetype": "text/x-python",
   "name": "python",
   "nbconvert_exporter": "python",
   "pygments_lexer": "ipython3",
   "version": "3.9.13"
  }
 },
 "nbformat": 4,
 "nbformat_minor": 5
}
