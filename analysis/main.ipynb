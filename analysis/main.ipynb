{
 "cells": [
  {
   "cell_type": "markdown",
   "id": "f78a15bc-b4be-4159-bfee-d68cfa29575e",
   "metadata": {
    "tags": []
   },
   "source": [
    "# Coverage Monitor\n",
    "\n",
    "Problem statement\n",
    "\n",
    "Approach\n",
    "\n",
    "Who are we?"
   ]
  },
  {
   "cell_type": "markdown",
   "id": "9e605db4-0f31-4df1-a78f-a50594a3c9a2",
   "metadata": {
    "tags": []
   },
   "source": [
    "## Constants"
   ]
  },
  {
   "cell_type": "code",
   "execution_count": 145,
   "id": "c0609c33-3f13-4585-a162-385b5159ab33",
   "metadata": {},
   "outputs": [],
   "source": [
    "import os\n",
    "\n",
    "# benchmark directory\n",
    "benchmark_loc = \"/Users/IceCream/Documents/hw22_fuzzing/benchmark\"\n",
    "\n",
    "# studied project\n",
    "proj = \"isort_setting3\"\n",
    "proj_loc = os.path.join(benchmark_loc, proj)\n",
    "\n",
    "# output directory\n",
    "out_loc = os.path.join(proj_loc, \"analysis\")\n",
    "if not os.path.exists(out_loc):\n",
    "    os.makedirs(out_loc)"
   ]
  },
  {
   "cell_type": "markdown",
   "id": "d5c71988-c3b6-408c-888a-0f7ce73ad099",
   "metadata": {
    "jp-MarkdownHeadingCollapsed": true,
    "tags": []
   },
   "source": [
    "## Lauching AFL"
   ]
  },
  {
   "cell_type": "code",
   "execution_count": null,
   "id": "5680ed02-92dd-4c35-adeb-6cdd7e7c9bfb",
   "metadata": {},
   "outputs": [],
   "source": [
    "# afl driver goes here"
   ]
  },
  {
   "cell_type": "markdown",
   "id": "9ce6c971-f216-4467-a5ff-5e59b4bef511",
   "metadata": {},
   "source": [
    "## Monitoring executions"
   ]
  },
  {
   "cell_type": "code",
   "execution_count": null,
   "id": "98802ce2-0b9c-4b31-b7a3-89e85fddffc2",
   "metadata": {},
   "outputs": [],
   "source": [
    "%run cov_tracker.ipynb\n",
    "\n",
    "# set global cov dict\n",
    "process_cov(proj_loc, out_loc)\n",
    "\n",
    "# df_ = pd.DataFrame()\n",
    "# df_.to_csv(file_name)\n",
    "\n",
    "# output two files, coverage.csv and exec_count.csv"
   ]
  },
  {
   "cell_type": "code",
   "execution_count": null,
   "id": "c32206f8-0d49-4262-85e7-c1b67b895a69",
   "metadata": {},
   "outputs": [],
   "source": []
  }
 ],
 "metadata": {
  "kernelspec": {
   "display_name": "Python 3 (ipykernel)",
   "language": "python",
   "name": "python3"
  },
  "language_info": {
   "codemirror_mode": {
    "name": "ipython",
    "version": 3
   },
   "file_extension": ".py",
   "mimetype": "text/x-python",
   "name": "python",
   "nbconvert_exporter": "python",
   "pygments_lexer": "ipython3",
   "version": "3.9.13"
  }
 },
 "nbformat": 4,
 "nbformat_minor": 5
}
